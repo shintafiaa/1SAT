{
  "nbformat": 4,
  "nbformat_minor": 0,
  "metadata": {
    "colab": {
      "name": "2 Preprocessing.ipynb",
      "provenance": [],
      "authorship_tag": "ABX9TyONdo14tHV+KdxR72mmvgZa",
      "include_colab_link": true
    },
    "kernelspec": {
      "name": "python3",
      "display_name": "Python 3"
    },
    "language_info": {
      "name": "python"
    }
  },
  "cells": [
    {
      "cell_type": "markdown",
      "metadata": {
        "id": "view-in-github",
        "colab_type": "text"
      },
      "source": [
        "<a href=\"https://colab.research.google.com/github/shintafiaa/1SAT/blob/main/2_Preprocessing.ipynb\" target=\"_parent\"><img src=\"https://colab.research.google.com/assets/colab-badge.svg\" alt=\"Open In Colab\"/></a>"
      ]
    },
    {
      "cell_type": "code",
      "execution_count": null,
      "metadata": {
        "colab": {
          "base_uri": "https://localhost:8080/"
        },
        "id": "fF4Gmje20aeh",
        "outputId": "8fcad774-2463-4854-97f7-fc1e5d434687"
      },
      "outputs": [
        {
          "output_type": "stream",
          "name": "stdout",
          "text": [
            "Mounted at /content/gdrive\n"
          ]
        }
      ],
      "source": [
        "# connecting gdrive into the google colab\n",
        "from google.colab import drive\n",
        "drive.mount('/content/gdrive')"
      ]
    },
    {
      "cell_type": "code",
      "source": [
        "import pandas as pd\n",
        "\n",
        "path = '/content/gdrive/MyDrive/TugasAkhirS1Shinta/EnsembleDRL/data/JIIDataset_2009_2021.csv'\n",
        "JIIStocksDataset = pd.read_csv(path)\n",
        "JIIStocksDataset"
      ],
      "metadata": {
        "colab": {
          "base_uri": "https://localhost:8080/",
          "height": 424
        },
        "id": "xRKMr7eP1mXC",
        "outputId": "a8c65a8f-3f86-4611-a878-806c72d9004f"
      },
      "execution_count": null,
      "outputs": [
        {
          "output_type": "execute_result",
          "data": {
            "text/plain": [
              "       Unnamed: 0  datadate   tic        adjcp    open    high     low  \\\n",
              "0               0  20090105  ADRO   289.563416   520.0   520.0   485.0   \n",
              "1               1  20090106  ADRO   283.994965   520.0   540.0   510.0   \n",
              "2               2  20090107  ADRO   289.563416   520.0   550.0   510.0   \n",
              "3               3  20090108  ADRO   278.426392   500.0   510.0   500.0   \n",
              "4               4  20090109  ADRO   283.994965   510.0   520.0   510.0   \n",
              "...           ...       ...   ...          ...     ...     ...     ...   \n",
              "88447       88447  20211224  WIKA  1075.000000  1060.0  1090.0  1055.0   \n",
              "88448       88448  20211227  WIKA  1125.000000  1080.0  1140.0  1080.0   \n",
              "88449       88449  20211228  WIKA  1130.000000  1135.0  1150.0  1110.0   \n",
              "88450       88450  20211229  WIKA  1130.000000  1130.0  1135.0  1105.0   \n",
              "88451       88451  20211230  WIKA  1105.000000  1130.0  1140.0  1105.0   \n",
              "\n",
              "           volume  \n",
              "0             3.0  \n",
              "1      11781500.0  \n",
              "2      27035500.0  \n",
              "3       2130000.0  \n",
              "4       1698000.0  \n",
              "...           ...  \n",
              "88447  13753500.0  \n",
              "88448  20641600.0  \n",
              "88449  22979500.0  \n",
              "88450   8582200.0  \n",
              "88451  10166400.0  \n",
              "\n",
              "[88452 rows x 8 columns]"
            ],
            "text/html": [
              "\n",
              "  <div id=\"df-052ee87d-7195-4f0d-a617-d4de76892360\">\n",
              "    <div class=\"colab-df-container\">\n",
              "      <div>\n",
              "<style scoped>\n",
              "    .dataframe tbody tr th:only-of-type {\n",
              "        vertical-align: middle;\n",
              "    }\n",
              "\n",
              "    .dataframe tbody tr th {\n",
              "        vertical-align: top;\n",
              "    }\n",
              "\n",
              "    .dataframe thead th {\n",
              "        text-align: right;\n",
              "    }\n",
              "</style>\n",
              "<table border=\"1\" class=\"dataframe\">\n",
              "  <thead>\n",
              "    <tr style=\"text-align: right;\">\n",
              "      <th></th>\n",
              "      <th>Unnamed: 0</th>\n",
              "      <th>datadate</th>\n",
              "      <th>tic</th>\n",
              "      <th>adjcp</th>\n",
              "      <th>open</th>\n",
              "      <th>high</th>\n",
              "      <th>low</th>\n",
              "      <th>volume</th>\n",
              "    </tr>\n",
              "  </thead>\n",
              "  <tbody>\n",
              "    <tr>\n",
              "      <th>0</th>\n",
              "      <td>0</td>\n",
              "      <td>20090105</td>\n",
              "      <td>ADRO</td>\n",
              "      <td>289.563416</td>\n",
              "      <td>520.0</td>\n",
              "      <td>520.0</td>\n",
              "      <td>485.0</td>\n",
              "      <td>3.0</td>\n",
              "    </tr>\n",
              "    <tr>\n",
              "      <th>1</th>\n",
              "      <td>1</td>\n",
              "      <td>20090106</td>\n",
              "      <td>ADRO</td>\n",
              "      <td>283.994965</td>\n",
              "      <td>520.0</td>\n",
              "      <td>540.0</td>\n",
              "      <td>510.0</td>\n",
              "      <td>11781500.0</td>\n",
              "    </tr>\n",
              "    <tr>\n",
              "      <th>2</th>\n",
              "      <td>2</td>\n",
              "      <td>20090107</td>\n",
              "      <td>ADRO</td>\n",
              "      <td>289.563416</td>\n",
              "      <td>520.0</td>\n",
              "      <td>550.0</td>\n",
              "      <td>510.0</td>\n",
              "      <td>27035500.0</td>\n",
              "    </tr>\n",
              "    <tr>\n",
              "      <th>3</th>\n",
              "      <td>3</td>\n",
              "      <td>20090108</td>\n",
              "      <td>ADRO</td>\n",
              "      <td>278.426392</td>\n",
              "      <td>500.0</td>\n",
              "      <td>510.0</td>\n",
              "      <td>500.0</td>\n",
              "      <td>2130000.0</td>\n",
              "    </tr>\n",
              "    <tr>\n",
              "      <th>4</th>\n",
              "      <td>4</td>\n",
              "      <td>20090109</td>\n",
              "      <td>ADRO</td>\n",
              "      <td>283.994965</td>\n",
              "      <td>510.0</td>\n",
              "      <td>520.0</td>\n",
              "      <td>510.0</td>\n",
              "      <td>1698000.0</td>\n",
              "    </tr>\n",
              "    <tr>\n",
              "      <th>...</th>\n",
              "      <td>...</td>\n",
              "      <td>...</td>\n",
              "      <td>...</td>\n",
              "      <td>...</td>\n",
              "      <td>...</td>\n",
              "      <td>...</td>\n",
              "      <td>...</td>\n",
              "      <td>...</td>\n",
              "    </tr>\n",
              "    <tr>\n",
              "      <th>88447</th>\n",
              "      <td>88447</td>\n",
              "      <td>20211224</td>\n",
              "      <td>WIKA</td>\n",
              "      <td>1075.000000</td>\n",
              "      <td>1060.0</td>\n",
              "      <td>1090.0</td>\n",
              "      <td>1055.0</td>\n",
              "      <td>13753500.0</td>\n",
              "    </tr>\n",
              "    <tr>\n",
              "      <th>88448</th>\n",
              "      <td>88448</td>\n",
              "      <td>20211227</td>\n",
              "      <td>WIKA</td>\n",
              "      <td>1125.000000</td>\n",
              "      <td>1080.0</td>\n",
              "      <td>1140.0</td>\n",
              "      <td>1080.0</td>\n",
              "      <td>20641600.0</td>\n",
              "    </tr>\n",
              "    <tr>\n",
              "      <th>88449</th>\n",
              "      <td>88449</td>\n",
              "      <td>20211228</td>\n",
              "      <td>WIKA</td>\n",
              "      <td>1130.000000</td>\n",
              "      <td>1135.0</td>\n",
              "      <td>1150.0</td>\n",
              "      <td>1110.0</td>\n",
              "      <td>22979500.0</td>\n",
              "    </tr>\n",
              "    <tr>\n",
              "      <th>88450</th>\n",
              "      <td>88450</td>\n",
              "      <td>20211229</td>\n",
              "      <td>WIKA</td>\n",
              "      <td>1130.000000</td>\n",
              "      <td>1130.0</td>\n",
              "      <td>1135.0</td>\n",
              "      <td>1105.0</td>\n",
              "      <td>8582200.0</td>\n",
              "    </tr>\n",
              "    <tr>\n",
              "      <th>88451</th>\n",
              "      <td>88451</td>\n",
              "      <td>20211230</td>\n",
              "      <td>WIKA</td>\n",
              "      <td>1105.000000</td>\n",
              "      <td>1130.0</td>\n",
              "      <td>1140.0</td>\n",
              "      <td>1105.0</td>\n",
              "      <td>10166400.0</td>\n",
              "    </tr>\n",
              "  </tbody>\n",
              "</table>\n",
              "<p>88452 rows × 8 columns</p>\n",
              "</div>\n",
              "      <button class=\"colab-df-convert\" onclick=\"convertToInteractive('df-052ee87d-7195-4f0d-a617-d4de76892360')\"\n",
              "              title=\"Convert this dataframe to an interactive table.\"\n",
              "              style=\"display:none;\">\n",
              "        \n",
              "  <svg xmlns=\"http://www.w3.org/2000/svg\" height=\"24px\"viewBox=\"0 0 24 24\"\n",
              "       width=\"24px\">\n",
              "    <path d=\"M0 0h24v24H0V0z\" fill=\"none\"/>\n",
              "    <path d=\"M18.56 5.44l.94 2.06.94-2.06 2.06-.94-2.06-.94-.94-2.06-.94 2.06-2.06.94zm-11 1L8.5 8.5l.94-2.06 2.06-.94-2.06-.94L8.5 2.5l-.94 2.06-2.06.94zm10 10l.94 2.06.94-2.06 2.06-.94-2.06-.94-.94-2.06-.94 2.06-2.06.94z\"/><path d=\"M17.41 7.96l-1.37-1.37c-.4-.4-.92-.59-1.43-.59-.52 0-1.04.2-1.43.59L10.3 9.45l-7.72 7.72c-.78.78-.78 2.05 0 2.83L4 21.41c.39.39.9.59 1.41.59.51 0 1.02-.2 1.41-.59l7.78-7.78 2.81-2.81c.8-.78.8-2.07 0-2.86zM5.41 20L4 18.59l7.72-7.72 1.47 1.35L5.41 20z\"/>\n",
              "  </svg>\n",
              "      </button>\n",
              "      \n",
              "  <style>\n",
              "    .colab-df-container {\n",
              "      display:flex;\n",
              "      flex-wrap:wrap;\n",
              "      gap: 12px;\n",
              "    }\n",
              "\n",
              "    .colab-df-convert {\n",
              "      background-color: #E8F0FE;\n",
              "      border: none;\n",
              "      border-radius: 50%;\n",
              "      cursor: pointer;\n",
              "      display: none;\n",
              "      fill: #1967D2;\n",
              "      height: 32px;\n",
              "      padding: 0 0 0 0;\n",
              "      width: 32px;\n",
              "    }\n",
              "\n",
              "    .colab-df-convert:hover {\n",
              "      background-color: #E2EBFA;\n",
              "      box-shadow: 0px 1px 2px rgba(60, 64, 67, 0.3), 0px 1px 3px 1px rgba(60, 64, 67, 0.15);\n",
              "      fill: #174EA6;\n",
              "    }\n",
              "\n",
              "    [theme=dark] .colab-df-convert {\n",
              "      background-color: #3B4455;\n",
              "      fill: #D2E3FC;\n",
              "    }\n",
              "\n",
              "    [theme=dark] .colab-df-convert:hover {\n",
              "      background-color: #434B5C;\n",
              "      box-shadow: 0px 1px 3px 1px rgba(0, 0, 0, 0.15);\n",
              "      filter: drop-shadow(0px 1px 2px rgba(0, 0, 0, 0.3));\n",
              "      fill: #FFFFFF;\n",
              "    }\n",
              "  </style>\n",
              "\n",
              "      <script>\n",
              "        const buttonEl =\n",
              "          document.querySelector('#df-052ee87d-7195-4f0d-a617-d4de76892360 button.colab-df-convert');\n",
              "        buttonEl.style.display =\n",
              "          google.colab.kernel.accessAllowed ? 'block' : 'none';\n",
              "\n",
              "        async function convertToInteractive(key) {\n",
              "          const element = document.querySelector('#df-052ee87d-7195-4f0d-a617-d4de76892360');\n",
              "          const dataTable =\n",
              "            await google.colab.kernel.invokeFunction('convertToInteractive',\n",
              "                                                     [key], {});\n",
              "          if (!dataTable) return;\n",
              "\n",
              "          const docLinkHtml = 'Like what you see? Visit the ' +\n",
              "            '<a target=\"_blank\" href=https://colab.research.google.com/notebooks/data_table.ipynb>data table notebook</a>'\n",
              "            + ' to learn more about interactive tables.';\n",
              "          element.innerHTML = '';\n",
              "          dataTable['output_type'] = 'display_data';\n",
              "          await google.colab.output.renderOutput(dataTable, element);\n",
              "          const docLink = document.createElement('div');\n",
              "          docLink.innerHTML = docLinkHtml;\n",
              "          element.appendChild(docLink);\n",
              "        }\n",
              "      </script>\n",
              "    </div>\n",
              "  </div>\n",
              "  "
            ]
          },
          "metadata": {},
          "execution_count": 2
        }
      ]
    },
    {
      "cell_type": "code",
      "source": [
        "JIIStocksDataset.drop('Unnamed: 0', inplace=True, axis=1)\n",
        "print(JIIStocksDataset)"
      ],
      "metadata": {
        "id": "hbM4vunT2bDP",
        "colab": {
          "base_uri": "https://localhost:8080/"
        },
        "outputId": "4b8398be-f171-4b9c-9f5a-57431439a48e"
      },
      "execution_count": null,
      "outputs": [
        {
          "output_type": "stream",
          "name": "stdout",
          "text": [
            "       datadate   tic        adjcp    open    high     low      volume\n",
            "0      20090105  ADRO   289.563416   520.0   520.0   485.0         3.0\n",
            "1      20090106  ADRO   283.994965   520.0   540.0   510.0  11781500.0\n",
            "2      20090107  ADRO   289.563416   520.0   550.0   510.0  27035500.0\n",
            "3      20090108  ADRO   278.426392   500.0   510.0   500.0   2130000.0\n",
            "4      20090109  ADRO   283.994965   510.0   520.0   510.0   1698000.0\n",
            "...         ...   ...          ...     ...     ...     ...         ...\n",
            "88447  20211224  WIKA  1075.000000  1060.0  1090.0  1055.0  13753500.0\n",
            "88448  20211227  WIKA  1125.000000  1080.0  1140.0  1080.0  20641600.0\n",
            "88449  20211228  WIKA  1130.000000  1135.0  1150.0  1110.0  22979500.0\n",
            "88450  20211229  WIKA  1130.000000  1130.0  1135.0  1105.0   8582200.0\n",
            "88451  20211230  WIKA  1105.000000  1130.0  1140.0  1105.0  10166400.0\n",
            "\n",
            "[88452 rows x 7 columns]\n"
          ]
        }
      ]
    },
    {
      "cell_type": "code",
      "source": [
        "JIIStocksDataset.info()"
      ],
      "metadata": {
        "id": "eplWdBYz2LPh",
        "colab": {
          "base_uri": "https://localhost:8080/"
        },
        "outputId": "f1cb98d3-6306-4853-d736-28c67764ac19"
      },
      "execution_count": null,
      "outputs": [
        {
          "output_type": "stream",
          "name": "stdout",
          "text": [
            "<class 'pandas.core.frame.DataFrame'>\n",
            "RangeIndex: 88452 entries, 0 to 88451\n",
            "Data columns (total 7 columns):\n",
            " #   Column    Non-Null Count  Dtype  \n",
            "---  ------    --------------  -----  \n",
            " 0   datadate  88452 non-null  int64  \n",
            " 1   tic       88452 non-null  object \n",
            " 2   adjcp     88450 non-null  float64\n",
            " 3   open      88450 non-null  float64\n",
            " 4   high      88450 non-null  float64\n",
            " 5   low       88450 non-null  float64\n",
            " 6   volume    88450 non-null  float64\n",
            "dtypes: float64(5), int64(1), object(1)\n",
            "memory usage: 4.7+ MB\n"
          ]
        }
      ]
    },
    {
      "cell_type": "code",
      "source": [
        "#displaying nan row\n",
        "JIIStocksDataset[JIIStocksDataset['adjcp'].isnull()]"
      ],
      "metadata": {
        "id": "Rit9BYkdi7CU",
        "colab": {
          "base_uri": "https://localhost:8080/",
          "height": 112
        },
        "outputId": "73d5a06c-29fd-459f-9bba-17e15833baba"
      },
      "execution_count": null,
      "outputs": [
        {
          "output_type": "execute_result",
          "data": {
            "text/plain": [
              "       datadate   tic  adjcp  open  high  low  volume\n",
              "15208  20150501  EMTK    NaN   NaN   NaN  NaN     NaN\n",
              "41665  20201209  INTP    NaN   NaN   NaN  NaN     NaN"
            ],
            "text/html": [
              "\n",
              "  <div id=\"df-069e2f71-53d0-4a54-9e8b-12786f1e39d3\">\n",
              "    <div class=\"colab-df-container\">\n",
              "      <div>\n",
              "<style scoped>\n",
              "    .dataframe tbody tr th:only-of-type {\n",
              "        vertical-align: middle;\n",
              "    }\n",
              "\n",
              "    .dataframe tbody tr th {\n",
              "        vertical-align: top;\n",
              "    }\n",
              "\n",
              "    .dataframe thead th {\n",
              "        text-align: right;\n",
              "    }\n",
              "</style>\n",
              "<table border=\"1\" class=\"dataframe\">\n",
              "  <thead>\n",
              "    <tr style=\"text-align: right;\">\n",
              "      <th></th>\n",
              "      <th>datadate</th>\n",
              "      <th>tic</th>\n",
              "      <th>adjcp</th>\n",
              "      <th>open</th>\n",
              "      <th>high</th>\n",
              "      <th>low</th>\n",
              "      <th>volume</th>\n",
              "    </tr>\n",
              "  </thead>\n",
              "  <tbody>\n",
              "    <tr>\n",
              "      <th>15208</th>\n",
              "      <td>20150501</td>\n",
              "      <td>EMTK</td>\n",
              "      <td>NaN</td>\n",
              "      <td>NaN</td>\n",
              "      <td>NaN</td>\n",
              "      <td>NaN</td>\n",
              "      <td>NaN</td>\n",
              "    </tr>\n",
              "    <tr>\n",
              "      <th>41665</th>\n",
              "      <td>20201209</td>\n",
              "      <td>INTP</td>\n",
              "      <td>NaN</td>\n",
              "      <td>NaN</td>\n",
              "      <td>NaN</td>\n",
              "      <td>NaN</td>\n",
              "      <td>NaN</td>\n",
              "    </tr>\n",
              "  </tbody>\n",
              "</table>\n",
              "</div>\n",
              "      <button class=\"colab-df-convert\" onclick=\"convertToInteractive('df-069e2f71-53d0-4a54-9e8b-12786f1e39d3')\"\n",
              "              title=\"Convert this dataframe to an interactive table.\"\n",
              "              style=\"display:none;\">\n",
              "        \n",
              "  <svg xmlns=\"http://www.w3.org/2000/svg\" height=\"24px\"viewBox=\"0 0 24 24\"\n",
              "       width=\"24px\">\n",
              "    <path d=\"M0 0h24v24H0V0z\" fill=\"none\"/>\n",
              "    <path d=\"M18.56 5.44l.94 2.06.94-2.06 2.06-.94-2.06-.94-.94-2.06-.94 2.06-2.06.94zm-11 1L8.5 8.5l.94-2.06 2.06-.94-2.06-.94L8.5 2.5l-.94 2.06-2.06.94zm10 10l.94 2.06.94-2.06 2.06-.94-2.06-.94-.94-2.06-.94 2.06-2.06.94z\"/><path d=\"M17.41 7.96l-1.37-1.37c-.4-.4-.92-.59-1.43-.59-.52 0-1.04.2-1.43.59L10.3 9.45l-7.72 7.72c-.78.78-.78 2.05 0 2.83L4 21.41c.39.39.9.59 1.41.59.51 0 1.02-.2 1.41-.59l7.78-7.78 2.81-2.81c.8-.78.8-2.07 0-2.86zM5.41 20L4 18.59l7.72-7.72 1.47 1.35L5.41 20z\"/>\n",
              "  </svg>\n",
              "      </button>\n",
              "      \n",
              "  <style>\n",
              "    .colab-df-container {\n",
              "      display:flex;\n",
              "      flex-wrap:wrap;\n",
              "      gap: 12px;\n",
              "    }\n",
              "\n",
              "    .colab-df-convert {\n",
              "      background-color: #E8F0FE;\n",
              "      border: none;\n",
              "      border-radius: 50%;\n",
              "      cursor: pointer;\n",
              "      display: none;\n",
              "      fill: #1967D2;\n",
              "      height: 32px;\n",
              "      padding: 0 0 0 0;\n",
              "      width: 32px;\n",
              "    }\n",
              "\n",
              "    .colab-df-convert:hover {\n",
              "      background-color: #E2EBFA;\n",
              "      box-shadow: 0px 1px 2px rgba(60, 64, 67, 0.3), 0px 1px 3px 1px rgba(60, 64, 67, 0.15);\n",
              "      fill: #174EA6;\n",
              "    }\n",
              "\n",
              "    [theme=dark] .colab-df-convert {\n",
              "      background-color: #3B4455;\n",
              "      fill: #D2E3FC;\n",
              "    }\n",
              "\n",
              "    [theme=dark] .colab-df-convert:hover {\n",
              "      background-color: #434B5C;\n",
              "      box-shadow: 0px 1px 3px 1px rgba(0, 0, 0, 0.15);\n",
              "      filter: drop-shadow(0px 1px 2px rgba(0, 0, 0, 0.3));\n",
              "      fill: #FFFFFF;\n",
              "    }\n",
              "  </style>\n",
              "\n",
              "      <script>\n",
              "        const buttonEl =\n",
              "          document.querySelector('#df-069e2f71-53d0-4a54-9e8b-12786f1e39d3 button.colab-df-convert');\n",
              "        buttonEl.style.display =\n",
              "          google.colab.kernel.accessAllowed ? 'block' : 'none';\n",
              "\n",
              "        async function convertToInteractive(key) {\n",
              "          const element = document.querySelector('#df-069e2f71-53d0-4a54-9e8b-12786f1e39d3');\n",
              "          const dataTable =\n",
              "            await google.colab.kernel.invokeFunction('convertToInteractive',\n",
              "                                                     [key], {});\n",
              "          if (!dataTable) return;\n",
              "\n",
              "          const docLinkHtml = 'Like what you see? Visit the ' +\n",
              "            '<a target=\"_blank\" href=https://colab.research.google.com/notebooks/data_table.ipynb>data table notebook</a>'\n",
              "            + ' to learn more about interactive tables.';\n",
              "          element.innerHTML = '';\n",
              "          dataTable['output_type'] = 'display_data';\n",
              "          await google.colab.output.renderOutput(dataTable, element);\n",
              "          const docLink = document.createElement('div');\n",
              "          docLink.innerHTML = docLinkHtml;\n",
              "          element.appendChild(docLink);\n",
              "        }\n",
              "      </script>\n",
              "    </div>\n",
              "  </div>\n",
              "  "
            ]
          },
          "metadata": {},
          "execution_count": 5
        }
      ]
    },
    {
      "cell_type": "code",
      "source": [
        "# import the KNNimputer class\n",
        "from sklearn.impute import KNNImputer\n",
        "\n",
        "# take numerical features\n",
        "numerical_features = ['adjcp',\t'open',\t'high',\t'low',\t'volume']\n",
        "\n",
        "# create an object for KNNImputer\n",
        "imputer = KNNImputer(n_neighbors=2)\n",
        "JIIStocksDataset_After_imputation = imputer.fit_transform(JIIStocksDataset[numerical_features])"
      ],
      "metadata": {
        "id": "bmzVgy1BBRy6"
      },
      "execution_count": null,
      "outputs": []
    },
    {
      "cell_type": "code",
      "source": [
        "# print dataset after performing the operation\n",
        "# Note: After transforming the data becomes a numpy array\n",
        "print(\"\\n\\nAfter performing imputation\\n\",JIIStocksDataset_After_imputation)"
      ],
      "metadata": {
        "id": "4DCyYspOIRwa",
        "colab": {
          "base_uri": "https://localhost:8080/"
        },
        "outputId": "f4dd9ee0-ac42-4623-cc3d-9cb746a6d4ca"
      },
      "execution_count": null,
      "outputs": [
        {
          "output_type": "stream",
          "name": "stdout",
          "text": [
            "\n",
            "\n",
            "After performing imputation\n",
            " [[2.89563416e+02 5.20000000e+02 5.20000000e+02 4.85000000e+02\n",
            "  3.00000000e+00]\n",
            " [2.83994965e+02 5.20000000e+02 5.40000000e+02 5.10000000e+02\n",
            "  1.17815000e+07]\n",
            " [2.89563416e+02 5.20000000e+02 5.50000000e+02 5.10000000e+02\n",
            "  2.70355000e+07]\n",
            " ...\n",
            " [1.13000000e+03 1.13500000e+03 1.15000000e+03 1.11000000e+03\n",
            "  2.29795000e+07]\n",
            " [1.13000000e+03 1.13000000e+03 1.13500000e+03 1.10500000e+03\n",
            "  8.58220000e+06]\n",
            " [1.10500000e+03 1.13000000e+03 1.14000000e+03 1.10500000e+03\n",
            "  1.01664000e+07]]\n"
          ]
        }
      ]
    },
    {
      "cell_type": "code",
      "source": [
        "#import numpy array to dataframe\n",
        "\n",
        "import numpy as np\n",
        "\n",
        "JIIStocksDataframe_After_imputation = pd.DataFrame(JIIStocksDataset_After_imputation, columns = ['adjcp',\t'open',\t'high',\t'low',\t'volume'])\n",
        "print(JIIStocksDataframe_After_imputation)"
      ],
      "metadata": {
        "id": "8fkqTJEBHYZX",
        "colab": {
          "base_uri": "https://localhost:8080/"
        },
        "outputId": "4fcbfcb9-0055-4700-e378-017cbe16ef26"
      },
      "execution_count": null,
      "outputs": [
        {
          "output_type": "stream",
          "name": "stdout",
          "text": [
            "             adjcp    open    high     low      volume\n",
            "0       289.563416   520.0   520.0   485.0         3.0\n",
            "1       283.994965   520.0   540.0   510.0  11781500.0\n",
            "2       289.563416   520.0   550.0   510.0  27035500.0\n",
            "3       278.426392   500.0   510.0   500.0   2130000.0\n",
            "4       283.994965   510.0   520.0   510.0   1698000.0\n",
            "...            ...     ...     ...     ...         ...\n",
            "88447  1075.000000  1060.0  1090.0  1055.0  13753500.0\n",
            "88448  1125.000000  1080.0  1140.0  1080.0  20641600.0\n",
            "88449  1130.000000  1135.0  1150.0  1110.0  22979500.0\n",
            "88450  1130.000000  1130.0  1135.0  1105.0   8582200.0\n",
            "88451  1105.000000  1130.0  1140.0  1105.0  10166400.0\n",
            "\n",
            "[88452 rows x 5 columns]\n"
          ]
        }
      ]
    },
    {
      "cell_type": "code",
      "source": [
        "#drop some column of JIIStockDataset \n",
        "JIIStocksDataset = JIIStocksDataset.drop(JIIStocksDataset.columns[[2, 3, 4, 5, 6]], axis=1) \n",
        "\n",
        "JIIStocksDataframe = pd.concat([JIIStocksDataset, JIIStocksDataframe_After_imputation], axis=1)\n",
        "JIIStocksDataframe"
      ],
      "metadata": {
        "id": "LNzr4jZ8KBPu",
        "colab": {
          "base_uri": "https://localhost:8080/",
          "height": 424
        },
        "outputId": "40867353-9ffc-4486-f641-923fe8c921d6"
      },
      "execution_count": null,
      "outputs": [
        {
          "output_type": "execute_result",
          "data": {
            "text/plain": [
              "       datadate   tic        adjcp    open    high     low      volume\n",
              "0      20090105  ADRO   289.563416   520.0   520.0   485.0         3.0\n",
              "1      20090106  ADRO   283.994965   520.0   540.0   510.0  11781500.0\n",
              "2      20090107  ADRO   289.563416   520.0   550.0   510.0  27035500.0\n",
              "3      20090108  ADRO   278.426392   500.0   510.0   500.0   2130000.0\n",
              "4      20090109  ADRO   283.994965   510.0   520.0   510.0   1698000.0\n",
              "...         ...   ...          ...     ...     ...     ...         ...\n",
              "88447  20211224  WIKA  1075.000000  1060.0  1090.0  1055.0  13753500.0\n",
              "88448  20211227  WIKA  1125.000000  1080.0  1140.0  1080.0  20641600.0\n",
              "88449  20211228  WIKA  1130.000000  1135.0  1150.0  1110.0  22979500.0\n",
              "88450  20211229  WIKA  1130.000000  1130.0  1135.0  1105.0   8582200.0\n",
              "88451  20211230  WIKA  1105.000000  1130.0  1140.0  1105.0  10166400.0\n",
              "\n",
              "[88452 rows x 7 columns]"
            ],
            "text/html": [
              "\n",
              "  <div id=\"df-05e25dc4-068e-4e63-8d8a-80083e11534f\">\n",
              "    <div class=\"colab-df-container\">\n",
              "      <div>\n",
              "<style scoped>\n",
              "    .dataframe tbody tr th:only-of-type {\n",
              "        vertical-align: middle;\n",
              "    }\n",
              "\n",
              "    .dataframe tbody tr th {\n",
              "        vertical-align: top;\n",
              "    }\n",
              "\n",
              "    .dataframe thead th {\n",
              "        text-align: right;\n",
              "    }\n",
              "</style>\n",
              "<table border=\"1\" class=\"dataframe\">\n",
              "  <thead>\n",
              "    <tr style=\"text-align: right;\">\n",
              "      <th></th>\n",
              "      <th>datadate</th>\n",
              "      <th>tic</th>\n",
              "      <th>adjcp</th>\n",
              "      <th>open</th>\n",
              "      <th>high</th>\n",
              "      <th>low</th>\n",
              "      <th>volume</th>\n",
              "    </tr>\n",
              "  </thead>\n",
              "  <tbody>\n",
              "    <tr>\n",
              "      <th>0</th>\n",
              "      <td>20090105</td>\n",
              "      <td>ADRO</td>\n",
              "      <td>289.563416</td>\n",
              "      <td>520.0</td>\n",
              "      <td>520.0</td>\n",
              "      <td>485.0</td>\n",
              "      <td>3.0</td>\n",
              "    </tr>\n",
              "    <tr>\n",
              "      <th>1</th>\n",
              "      <td>20090106</td>\n",
              "      <td>ADRO</td>\n",
              "      <td>283.994965</td>\n",
              "      <td>520.0</td>\n",
              "      <td>540.0</td>\n",
              "      <td>510.0</td>\n",
              "      <td>11781500.0</td>\n",
              "    </tr>\n",
              "    <tr>\n",
              "      <th>2</th>\n",
              "      <td>20090107</td>\n",
              "      <td>ADRO</td>\n",
              "      <td>289.563416</td>\n",
              "      <td>520.0</td>\n",
              "      <td>550.0</td>\n",
              "      <td>510.0</td>\n",
              "      <td>27035500.0</td>\n",
              "    </tr>\n",
              "    <tr>\n",
              "      <th>3</th>\n",
              "      <td>20090108</td>\n",
              "      <td>ADRO</td>\n",
              "      <td>278.426392</td>\n",
              "      <td>500.0</td>\n",
              "      <td>510.0</td>\n",
              "      <td>500.0</td>\n",
              "      <td>2130000.0</td>\n",
              "    </tr>\n",
              "    <tr>\n",
              "      <th>4</th>\n",
              "      <td>20090109</td>\n",
              "      <td>ADRO</td>\n",
              "      <td>283.994965</td>\n",
              "      <td>510.0</td>\n",
              "      <td>520.0</td>\n",
              "      <td>510.0</td>\n",
              "      <td>1698000.0</td>\n",
              "    </tr>\n",
              "    <tr>\n",
              "      <th>...</th>\n",
              "      <td>...</td>\n",
              "      <td>...</td>\n",
              "      <td>...</td>\n",
              "      <td>...</td>\n",
              "      <td>...</td>\n",
              "      <td>...</td>\n",
              "      <td>...</td>\n",
              "    </tr>\n",
              "    <tr>\n",
              "      <th>88447</th>\n",
              "      <td>20211224</td>\n",
              "      <td>WIKA</td>\n",
              "      <td>1075.000000</td>\n",
              "      <td>1060.0</td>\n",
              "      <td>1090.0</td>\n",
              "      <td>1055.0</td>\n",
              "      <td>13753500.0</td>\n",
              "    </tr>\n",
              "    <tr>\n",
              "      <th>88448</th>\n",
              "      <td>20211227</td>\n",
              "      <td>WIKA</td>\n",
              "      <td>1125.000000</td>\n",
              "      <td>1080.0</td>\n",
              "      <td>1140.0</td>\n",
              "      <td>1080.0</td>\n",
              "      <td>20641600.0</td>\n",
              "    </tr>\n",
              "    <tr>\n",
              "      <th>88449</th>\n",
              "      <td>20211228</td>\n",
              "      <td>WIKA</td>\n",
              "      <td>1130.000000</td>\n",
              "      <td>1135.0</td>\n",
              "      <td>1150.0</td>\n",
              "      <td>1110.0</td>\n",
              "      <td>22979500.0</td>\n",
              "    </tr>\n",
              "    <tr>\n",
              "      <th>88450</th>\n",
              "      <td>20211229</td>\n",
              "      <td>WIKA</td>\n",
              "      <td>1130.000000</td>\n",
              "      <td>1130.0</td>\n",
              "      <td>1135.0</td>\n",
              "      <td>1105.0</td>\n",
              "      <td>8582200.0</td>\n",
              "    </tr>\n",
              "    <tr>\n",
              "      <th>88451</th>\n",
              "      <td>20211230</td>\n",
              "      <td>WIKA</td>\n",
              "      <td>1105.000000</td>\n",
              "      <td>1130.0</td>\n",
              "      <td>1140.0</td>\n",
              "      <td>1105.0</td>\n",
              "      <td>10166400.0</td>\n",
              "    </tr>\n",
              "  </tbody>\n",
              "</table>\n",
              "<p>88452 rows × 7 columns</p>\n",
              "</div>\n",
              "      <button class=\"colab-df-convert\" onclick=\"convertToInteractive('df-05e25dc4-068e-4e63-8d8a-80083e11534f')\"\n",
              "              title=\"Convert this dataframe to an interactive table.\"\n",
              "              style=\"display:none;\">\n",
              "        \n",
              "  <svg xmlns=\"http://www.w3.org/2000/svg\" height=\"24px\"viewBox=\"0 0 24 24\"\n",
              "       width=\"24px\">\n",
              "    <path d=\"M0 0h24v24H0V0z\" fill=\"none\"/>\n",
              "    <path d=\"M18.56 5.44l.94 2.06.94-2.06 2.06-.94-2.06-.94-.94-2.06-.94 2.06-2.06.94zm-11 1L8.5 8.5l.94-2.06 2.06-.94-2.06-.94L8.5 2.5l-.94 2.06-2.06.94zm10 10l.94 2.06.94-2.06 2.06-.94-2.06-.94-.94-2.06-.94 2.06-2.06.94z\"/><path d=\"M17.41 7.96l-1.37-1.37c-.4-.4-.92-.59-1.43-.59-.52 0-1.04.2-1.43.59L10.3 9.45l-7.72 7.72c-.78.78-.78 2.05 0 2.83L4 21.41c.39.39.9.59 1.41.59.51 0 1.02-.2 1.41-.59l7.78-7.78 2.81-2.81c.8-.78.8-2.07 0-2.86zM5.41 20L4 18.59l7.72-7.72 1.47 1.35L5.41 20z\"/>\n",
              "  </svg>\n",
              "      </button>\n",
              "      \n",
              "  <style>\n",
              "    .colab-df-container {\n",
              "      display:flex;\n",
              "      flex-wrap:wrap;\n",
              "      gap: 12px;\n",
              "    }\n",
              "\n",
              "    .colab-df-convert {\n",
              "      background-color: #E8F0FE;\n",
              "      border: none;\n",
              "      border-radius: 50%;\n",
              "      cursor: pointer;\n",
              "      display: none;\n",
              "      fill: #1967D2;\n",
              "      height: 32px;\n",
              "      padding: 0 0 0 0;\n",
              "      width: 32px;\n",
              "    }\n",
              "\n",
              "    .colab-df-convert:hover {\n",
              "      background-color: #E2EBFA;\n",
              "      box-shadow: 0px 1px 2px rgba(60, 64, 67, 0.3), 0px 1px 3px 1px rgba(60, 64, 67, 0.15);\n",
              "      fill: #174EA6;\n",
              "    }\n",
              "\n",
              "    [theme=dark] .colab-df-convert {\n",
              "      background-color: #3B4455;\n",
              "      fill: #D2E3FC;\n",
              "    }\n",
              "\n",
              "    [theme=dark] .colab-df-convert:hover {\n",
              "      background-color: #434B5C;\n",
              "      box-shadow: 0px 1px 3px 1px rgba(0, 0, 0, 0.15);\n",
              "      filter: drop-shadow(0px 1px 2px rgba(0, 0, 0, 0.3));\n",
              "      fill: #FFFFFF;\n",
              "    }\n",
              "  </style>\n",
              "\n",
              "      <script>\n",
              "        const buttonEl =\n",
              "          document.querySelector('#df-05e25dc4-068e-4e63-8d8a-80083e11534f button.colab-df-convert');\n",
              "        buttonEl.style.display =\n",
              "          google.colab.kernel.accessAllowed ? 'block' : 'none';\n",
              "\n",
              "        async function convertToInteractive(key) {\n",
              "          const element = document.querySelector('#df-05e25dc4-068e-4e63-8d8a-80083e11534f');\n",
              "          const dataTable =\n",
              "            await google.colab.kernel.invokeFunction('convertToInteractive',\n",
              "                                                     [key], {});\n",
              "          if (!dataTable) return;\n",
              "\n",
              "          const docLinkHtml = 'Like what you see? Visit the ' +\n",
              "            '<a target=\"_blank\" href=https://colab.research.google.com/notebooks/data_table.ipynb>data table notebook</a>'\n",
              "            + ' to learn more about interactive tables.';\n",
              "          element.innerHTML = '';\n",
              "          dataTable['output_type'] = 'display_data';\n",
              "          await google.colab.output.renderOutput(dataTable, element);\n",
              "          const docLink = document.createElement('div');\n",
              "          docLink.innerHTML = docLinkHtml;\n",
              "          element.appendChild(docLink);\n",
              "        }\n",
              "      </script>\n",
              "    </div>\n",
              "  </div>\n",
              "  "
            ]
          },
          "metadata": {},
          "execution_count": 9
        }
      ]
    },
    {
      "cell_type": "code",
      "source": [
        "JIIStocksDataframe.info()"
      ],
      "metadata": {
        "id": "3GiPYMbcL3pz",
        "colab": {
          "base_uri": "https://localhost:8080/"
        },
        "outputId": "fc5a3fa1-58d4-46c9-a8f0-ead960feebbb"
      },
      "execution_count": null,
      "outputs": [
        {
          "output_type": "stream",
          "name": "stdout",
          "text": [
            "<class 'pandas.core.frame.DataFrame'>\n",
            "RangeIndex: 88452 entries, 0 to 88451\n",
            "Data columns (total 7 columns):\n",
            " #   Column    Non-Null Count  Dtype  \n",
            "---  ------    --------------  -----  \n",
            " 0   datadate  88452 non-null  int64  \n",
            " 1   tic       88452 non-null  object \n",
            " 2   adjcp     88452 non-null  float64\n",
            " 3   open      88452 non-null  float64\n",
            " 4   high      88452 non-null  float64\n",
            " 5   low       88452 non-null  float64\n",
            " 6   volume    88452 non-null  float64\n",
            "dtypes: float64(5), int64(1), object(1)\n",
            "memory usage: 4.7+ MB\n"
          ]
        }
      ]
    },
    {
      "cell_type": "code",
      "source": [
        "import seaborn as sns"
      ],
      "metadata": {
        "id": "6VzQG-mNMNY7"
      },
      "execution_count": null,
      "outputs": []
    },
    {
      "cell_type": "code",
      "source": [
        "sns.boxplot(x=JIIStocksDataframe['adjcp'])"
      ],
      "metadata": {
        "id": "1sO_HqgjMFtU",
        "colab": {
          "base_uri": "https://localhost:8080/",
          "height": 296
        },
        "outputId": "cea4d7d5-ca0d-4b82-f7bd-c9b8d9b08fcf"
      },
      "execution_count": null,
      "outputs": [
        {
          "output_type": "execute_result",
          "data": {
            "text/plain": [
              "<matplotlib.axes._subplots.AxesSubplot at 0x7fb710dc5450>"
            ]
          },
          "metadata": {},
          "execution_count": 12
        },
        {
          "output_type": "display_data",
          "data": {
            "text/plain": [
              "<Figure size 432x288 with 1 Axes>"
            ],
            "image/png": "[encoded data removed]"
          },
          "metadata": {
            "needs_background": "light"
          }
        }
      ]
    },
    {
      "cell_type": "code",
      "source": [
        "sns.boxplot(x=JIIStocksDataframe['open'])"
      ],
      "metadata": {
        "id": "smeV7svxMQK8",
        "colab": {
          "base_uri": "https://localhost:8080/",
          "height": 296
        },
        "outputId": "b9cc27bd-e2b2-469c-f264-2a1723512b6f"
      },
      "execution_count": null,
      "outputs": [
        {
          "output_type": "execute_result",
          "data": {
            "text/plain": [
              "<matplotlib.axes._subplots.AxesSubplot at 0x7fb6fc89aed0>"
            ]
          },
          "metadata": {},
          "execution_count": 13
        },
        {
          "output_type": "display_data",
          "data": {
            "text/plain": [
              "<Figure size 432x288 with 1 Axes>"
            ],
            "image/png": "[encoded data removed]"
          },
          "metadata": {
            "needs_background": "light"
          }
        }
      ]
    },
    {
      "cell_type": "code",
      "source": [
        "sns.boxplot(x=JIIStocksDataframe['high'])"
      ],
      "metadata": {
        "id": "j_EdaEBoMThY",
        "colab": {
          "base_uri": "https://localhost:8080/",
          "height": 296
        },
        "outputId": "0ff1d152-9627-4085-e0fc-4b531a069dba"
      },
      "execution_count": null,
      "outputs": [
        {
          "output_type": "execute_result",
          "data": {
            "text/plain": [
              "<matplotlib.axes._subplots.AxesSubplot at 0x7fb70e26b050>"
            ]
          },
          "metadata": {},
          "execution_count": 14
        },
        {
          "output_type": "display_data",
          "data": {
            "text/plain": [
              "<Figure size 432x288 with 1 Axes>"
            ],
            "image/png": "[encoded data removed]"
          },
          "metadata": {
            "needs_background": "light"
          }
        }
      ]
    },
    {
      "cell_type": "code",
      "source": [
        "sns.boxplot(x=JIIStocksDataframe['low'])"
      ],
      "metadata": {
        "id": "Zx4SI33PMTIN",
        "colab": {
          "base_uri": "https://localhost:8080/",
          "height": 296
        },
        "outputId": "f0a0a935-ad4d-4a6e-ffcf-7f4dcd7a6d5c"
      },
      "execution_count": null,
      "outputs": [
        {
          "output_type": "execute_result",
          "data": {
            "text/plain": [
              "<matplotlib.axes._subplots.AxesSubplot at 0x7fb6fbaf8950>"
            ]
          },
          "metadata": {},
          "execution_count": 15
        },
        {
          "output_type": "display_data",
          "data": {
            "text/plain": [
              "<Figure size 432x288 with 1 Axes>"
            ],
            "image/png": "[encoded data removed]"
          },
          "metadata": {
            "needs_background": "light"
          }
        }
      ]
    },
    {
      "cell_type": "code",
      "source": [
        "sns.boxplot(x=JIIStocksDataframe['volume'])"
      ],
      "metadata": {
        "id": "Jsi6CKDvMS47",
        "colab": {
          "base_uri": "https://localhost:8080/",
          "height": 296
        },
        "outputId": "6cfda52b-59d2-4744-858b-496a8e367467"
      },
      "execution_count": null,
      "outputs": [
        {
          "output_type": "execute_result",
          "data": {
            "text/plain": [
              "<matplotlib.axes._subplots.AxesSubplot at 0x7fb6fbb0f410>"
            ]
          },
          "metadata": {},
          "execution_count": 16
        },
        {
          "output_type": "display_data",
          "data": {
            "text/plain": [
              "<Figure size 432x288 with 1 Axes>"
            ],
            "image/png": "[encoded data removed]"
          },
          "metadata": {
            "needs_background": "light"
          }
        }
      ]
    },
    {
      "cell_type": "code",
      "source": [
        "volumeUnder1000 = (JIIStocksDataframe.volume < 1000).sum()\n",
        "\n",
        "print(\"Total of volume value under 1000: \", volumeUnder1000)"
      ],
      "metadata": {
        "id": "K39Rs3aY5zL7",
        "colab": {
          "base_uri": "https://localhost:8080/"
        },
        "outputId": "37f8d81b-ff23-43e5-8e8b-edae0d304b60"
      },
      "execution_count": null,
      "outputs": [
        {
          "output_type": "stream",
          "name": "stdout",
          "text": [
            "Total of volume value under 1000:  4789\n"
          ]
        }
      ]
    },
    {
      "cell_type": "code",
      "source": [
        "#Drop volume value under 1000\n",
        "JIIStocksDataframe = JIIStocksDataframe.loc[(JIIStocksDataframe[['volume']]>=1000).all(axis=1)]\n",
        "\n",
        "#check the data size to make sure the rows have been dropped\n",
        "JIIStocksDataframe.shape"
      ],
      "metadata": {
        "id": "d3E-DlY66N9h",
        "colab": {
          "base_uri": "https://localhost:8080/"
        },
        "outputId": "775eaac2-28c9-4af9-8499-4bde7566dbcd"
      },
      "execution_count": null,
      "outputs": [
        {
          "output_type": "execute_result",
          "data": {
            "text/plain": [
              "(83663, 7)"
            ]
          },
          "metadata": {},
          "execution_count": 18
        }
      ]
    },
    {
      "cell_type": "code",
      "source": [
        "import random\n",
        "from scipy.stats.mstats import winsorize\n",
        "import matplotlib.pyplot as plt"
      ],
      "metadata": {
        "id": "VAVafYmYAsTn"
      },
      "execution_count": null,
      "outputs": []
    },
    {
      "cell_type": "code",
      "source": [
        "numerical_features = ['adjcp', 'open', 'high', 'low', 'volume']"
      ],
      "metadata": {
        "id": "bIDbjndoDkjI"
      },
      "execution_count": null,
      "outputs": []
    },
    {
      "cell_type": "code",
      "source": [
        "WinsorizedArray = winsorize(JIIStocksDataframe[numerical_features],(0.05,0.05))\n",
        "  \n",
        "plt.boxplot(WinsorizedArray)\n",
        "plt.title('Winsorized array of adjcp')\n",
        "plt.show()"
      ],
      "metadata": {
        "colab": {
          "base_uri": "https://localhost:8080/",
          "height": 281
        },
        "id": "C8StGSB5BtsG",
        "outputId": "d3313449-4787-4e60-e1de-83224349133d"
      },
      "execution_count": null,
      "outputs": [
        {
          "output_type": "display_data",
          "data": {
            "text/plain": [
              "<Figure size 432x288 with 1 Axes>"
            ],
            "image/png": "[encoded data removed]"
          },
          "metadata": {
            "needs_background": "light"
          }
        }
      ]
    },
    {
      "cell_type": "code",
      "source": [
        "PreprocessedJIIStocksDataframe = pd.DataFrame(WinsorizedArray, columns = ['adjcp',\t'open',\t'high',\t'low',\t'volume'])"
      ],
      "metadata": {
        "id": "aW0ojnKPEdrN"
      },
      "execution_count": null,
      "outputs": []
    },
    {
      "cell_type": "code",
      "source": [
        "#Standardization with StandardScaler\n",
        "from sklearn.preprocessing import StandardScaler\n",
        "\n",
        "numerical_features = ['adjcp', 'open', 'high', 'low', 'volume']\n",
        "scaler = StandardScaler()\n",
        "scaler.fit(PreprocessedJIIStocksDataframe[numerical_features])\n",
        "PreprocessedJIIStocksDataframe[numerical_features] = scaler.transform(JIIStocksDataframe.loc[:, numerical_features])\n",
        "PreprocessedJIIStocksDataframe[numerical_features].head()"
      ],
      "metadata": {
        "colab": {
          "base_uri": "https://localhost:8080/",
          "height": 206
        },
        "id": "3oUQXnfbCRYB",
        "outputId": "cc8c95d8-f931-4eae-a1c0-57cbe39b294e"
      },
      "execution_count": null,
      "outputs": [
        {
          "output_type": "execute_result",
          "data": {
            "text/plain": [
              "      adjcp      open      high       low    volume\n",
              "0 -0.776838 -0.649953 -0.648923 -0.649429 -0.150380\n",
              "1 -0.775656 -0.649953 -0.647508 -0.649429  1.249232\n",
              "2 -0.778021 -0.652822 -0.653168 -0.650885 -1.035941\n",
              "3 -0.776838 -0.651387 -0.651753 -0.649429 -1.075579\n",
              "4 -0.756735 -0.627004 -0.619210 -0.627589  9.669200"
            ],
            "text/html": [
              "\n",
              "  <div id=\"df-fc9e411c-ecae-4eda-9705-d84e5c598d51\">\n",
              "    <div class=\"colab-df-container\">\n",
              "      <div>\n",
              "<style scoped>\n",
              "    .dataframe tbody tr th:only-of-type {\n",
              "        vertical-align: middle;\n",
              "    }\n",
              "\n",
              "    .dataframe tbody tr th {\n",
              "        vertical-align: top;\n",
              "    }\n",
              "\n",
              "    .dataframe thead th {\n",
              "        text-align: right;\n",
              "    }\n",
              "</style>\n",
              "<table border=\"1\" class=\"dataframe\">\n",
              "  <thead>\n",
              "    <tr style=\"text-align: right;\">\n",
              "      <th></th>\n",
              "      <th>adjcp</th>\n",
              "      <th>open</th>\n",
              "      <th>high</th>\n",
              "      <th>low</th>\n",
              "      <th>volume</th>\n",
              "    </tr>\n",
              "  </thead>\n",
              "  <tbody>\n",
              "    <tr>\n",
              "      <th>0</th>\n",
              "      <td>-0.776838</td>\n",
              "      <td>-0.649953</td>\n",
              "      <td>-0.648923</td>\n",
              "      <td>-0.649429</td>\n",
              "      <td>-0.150380</td>\n",
              "    </tr>\n",
              "    <tr>\n",
              "      <th>1</th>\n",
              "      <td>-0.775656</td>\n",
              "      <td>-0.649953</td>\n",
              "      <td>-0.647508</td>\n",
              "      <td>-0.649429</td>\n",
              "      <td>1.249232</td>\n",
              "    </tr>\n",
              "    <tr>\n",
              "      <th>2</th>\n",
              "      <td>-0.778021</td>\n",
              "      <td>-0.652822</td>\n",
              "      <td>-0.653168</td>\n",
              "      <td>-0.650885</td>\n",
              "      <td>-1.035941</td>\n",
              "    </tr>\n",
              "    <tr>\n",
              "      <th>3</th>\n",
              "      <td>-0.776838</td>\n",
              "      <td>-0.651387</td>\n",
              "      <td>-0.651753</td>\n",
              "      <td>-0.649429</td>\n",
              "      <td>-1.075579</td>\n",
              "    </tr>\n",
              "    <tr>\n",
              "      <th>4</th>\n",
              "      <td>-0.756735</td>\n",
              "      <td>-0.627004</td>\n",
              "      <td>-0.619210</td>\n",
              "      <td>-0.627589</td>\n",
              "      <td>9.669200</td>\n",
              "    </tr>\n",
              "  </tbody>\n",
              "</table>\n",
              "</div>\n",
              "      <button class=\"colab-df-convert\" onclick=\"convertToInteractive('df-fc9e411c-ecae-4eda-9705-d84e5c598d51')\"\n",
              "              title=\"Convert this dataframe to an interactive table.\"\n",
              "              style=\"display:none;\">\n",
              "        \n",
              "  <svg xmlns=\"http://www.w3.org/2000/svg\" height=\"24px\"viewBox=\"0 0 24 24\"\n",
              "       width=\"24px\">\n",
              "    <path d=\"M0 0h24v24H0V0z\" fill=\"none\"/>\n",
              "    <path d=\"M18.56 5.44l.94 2.06.94-2.06 2.06-.94-2.06-.94-.94-2.06-.94 2.06-2.06.94zm-11 1L8.5 8.5l.94-2.06 2.06-.94-2.06-.94L8.5 2.5l-.94 2.06-2.06.94zm10 10l.94 2.06.94-2.06 2.06-.94-2.06-.94-.94-2.06-.94 2.06-2.06.94z\"/><path d=\"M17.41 7.96l-1.37-1.37c-.4-.4-.92-.59-1.43-.59-.52 0-1.04.2-1.43.59L10.3 9.45l-7.72 7.72c-.78.78-.78 2.05 0 2.83L4 21.41c.39.39.9.59 1.41.59.51 0 1.02-.2 1.41-.59l7.78-7.78 2.81-2.81c.8-.78.8-2.07 0-2.86zM5.41 20L4 18.59l7.72-7.72 1.47 1.35L5.41 20z\"/>\n",
              "  </svg>\n",
              "      </button>\n",
              "      \n",
              "  <style>\n",
              "    .colab-df-container {\n",
              "      display:flex;\n",
              "      flex-wrap:wrap;\n",
              "      gap: 12px;\n",
              "    }\n",
              "\n",
              "    .colab-df-convert {\n",
              "      background-color: #E8F0FE;\n",
              "      border: none;\n",
              "      border-radius: 50%;\n",
              "      cursor: pointer;\n",
              "      display: none;\n",
              "      fill: #1967D2;\n",
              "      height: 32px;\n",
              "      padding: 0 0 0 0;\n",
              "      width: 32px;\n",
              "    }\n",
              "\n",
              "    .colab-df-convert:hover {\n",
              "      background-color: #E2EBFA;\n",
              "      box-shadow: 0px 1px 2px rgba(60, 64, 67, 0.3), 0px 1px 3px 1px rgba(60, 64, 67, 0.15);\n",
              "      fill: #174EA6;\n",
              "    }\n",
              "\n",
              "    [theme=dark] .colab-df-convert {\n",
              "      background-color: #3B4455;\n",
              "      fill: #D2E3FC;\n",
              "    }\n",
              "\n",
              "    [theme=dark] .colab-df-convert:hover {\n",
              "      background-color: #434B5C;\n",
              "      box-shadow: 0px 1px 3px 1px rgba(0, 0, 0, 0.15);\n",
              "      filter: drop-shadow(0px 1px 2px rgba(0, 0, 0, 0.3));\n",
              "      fill: #FFFFFF;\n",
              "    }\n",
              "  </style>\n",
              "\n",
              "      <script>\n",
              "        const buttonEl =\n",
              "          document.querySelector('#df-fc9e411c-ecae-4eda-9705-d84e5c598d51 button.colab-df-convert');\n",
              "        buttonEl.style.display =\n",
              "          google.colab.kernel.accessAllowed ? 'block' : 'none';\n",
              "\n",
              "        async function convertToInteractive(key) {\n",
              "          const element = document.querySelector('#df-fc9e411c-ecae-4eda-9705-d84e5c598d51');\n",
              "          const dataTable =\n",
              "            await google.colab.kernel.invokeFunction('convertToInteractive',\n",
              "                                                     [key], {});\n",
              "          if (!dataTable) return;\n",
              "\n",
              "          const docLinkHtml = 'Like what you see? Visit the ' +\n",
              "            '<a target=\"_blank\" href=https://colab.research.google.com/notebooks/data_table.ipynb>data table notebook</a>'\n",
              "            + ' to learn more about interactive tables.';\n",
              "          element.innerHTML = '';\n",
              "          dataTable['output_type'] = 'display_data';\n",
              "          await google.colab.output.renderOutput(dataTable, element);\n",
              "          const docLink = document.createElement('div');\n",
              "          docLink.innerHTML = docLinkHtml;\n",
              "          element.appendChild(docLink);\n",
              "        }\n",
              "      </script>\n",
              "    </div>\n",
              "  </div>\n",
              "  "
            ]
          },
          "metadata": {},
          "execution_count": 23
        }
      ]
    },
    {
      "cell_type": "code",
      "source": [
        "# Standardization changes the mean to 0 and the standard deviation to 1\n",
        "PreprocessedJIIStocksDataframe[numerical_features].describe().round(4)"
      ],
      "metadata": {
        "colab": {
          "base_uri": "https://localhost:8080/",
          "height": 300
        },
        "id": "MA8MHq3cE6qo",
        "outputId": "5afbf89d-4728-4a0a-855e-7b6ea5190ca7"
      },
      "execution_count": null,
      "outputs": [
        {
          "output_type": "execute_result",
          "data": {
            "text/plain": [
              "            adjcp        open        high         low      volume\n",
              "count  83663.0000  83663.0000  83663.0000  83663.0000  83663.0000\n",
              "mean      -0.0024     -0.0014     -0.0013     -0.0014      1.4645\n",
              "std        1.0019      1.0010      1.0009      1.0010      6.1094\n",
              "min       -0.8347     -0.7228     -0.7236     -0.7220     -1.2313\n",
              "25%       -0.6390     -0.5746     -0.5744     -0.5744     -0.9035\n",
              "50%       -0.4130     -0.3946     -0.3942     -0.3961     -0.3364\n",
              "75%        0.2487      0.1244      0.1236      0.1237      1.4110\n",
              "max        6.4307      7.4225      7.4742      7.3282    327.1353"
            ],
            "text/html": [
              "\n",
              "  <div id=\"df-6c0d1060-4db2-40cb-8850-1b36f468c061\">\n",
              "    <div class=\"colab-df-container\">\n",
              "      <div>\n",
              "<style scoped>\n",
              "    .dataframe tbody tr th:only-of-type {\n",
              "        vertical-align: middle;\n",
              "    }\n",
              "\n",
              "    .dataframe tbody tr th {\n",
              "        vertical-align: top;\n",
              "    }\n",
              "\n",
              "    .dataframe thead th {\n",
              "        text-align: right;\n",
              "    }\n",
              "</style>\n",
              "<table border=\"1\" class=\"dataframe\">\n",
              "  <thead>\n",
              "    <tr style=\"text-align: right;\">\n",
              "      <th></th>\n",
              "      <th>adjcp</th>\n",
              "      <th>open</th>\n",
              "      <th>high</th>\n",
              "      <th>low</th>\n",
              "      <th>volume</th>\n",
              "    </tr>\n",
              "  </thead>\n",
              "  <tbody>\n",
              "    <tr>\n",
              "      <th>count</th>\n",
              "      <td>83663.0000</td>\n",
              "      <td>83663.0000</td>\n",
              "      <td>83663.0000</td>\n",
              "      <td>83663.0000</td>\n",
              "      <td>83663.0000</td>\n",
              "    </tr>\n",
              "    <tr>\n",
              "      <th>mean</th>\n",
              "      <td>-0.0024</td>\n",
              "      <td>-0.0014</td>\n",
              "      <td>-0.0013</td>\n",
              "      <td>-0.0014</td>\n",
              "      <td>1.4645</td>\n",
              "    </tr>\n",
              "    <tr>\n",
              "      <th>std</th>\n",
              "      <td>1.0019</td>\n",
              "      <td>1.0010</td>\n",
              "      <td>1.0009</td>\n",
              "      <td>1.0010</td>\n",
              "      <td>6.1094</td>\n",
              "    </tr>\n",
              "    <tr>\n",
              "      <th>min</th>\n",
              "      <td>-0.8347</td>\n",
              "      <td>-0.7228</td>\n",
              "      <td>-0.7236</td>\n",
              "      <td>-0.7220</td>\n",
              "      <td>-1.2313</td>\n",
              "    </tr>\n",
              "    <tr>\n",
              "      <th>25%</th>\n",
              "      <td>-0.6390</td>\n",
              "      <td>-0.5746</td>\n",
              "      <td>-0.5744</td>\n",
              "      <td>-0.5744</td>\n",
              "      <td>-0.9035</td>\n",
              "    </tr>\n",
              "    <tr>\n",
              "      <th>50%</th>\n",
              "      <td>-0.4130</td>\n",
              "      <td>-0.3946</td>\n",
              "      <td>-0.3942</td>\n",
              "      <td>-0.3961</td>\n",
              "      <td>-0.3364</td>\n",
              "    </tr>\n",
              "    <tr>\n",
              "      <th>75%</th>\n",
              "      <td>0.2487</td>\n",
              "      <td>0.1244</td>\n",
              "      <td>0.1236</td>\n",
              "      <td>0.1237</td>\n",
              "      <td>1.4110</td>\n",
              "    </tr>\n",
              "    <tr>\n",
              "      <th>max</th>\n",
              "      <td>6.4307</td>\n",
              "      <td>7.4225</td>\n",
              "      <td>7.4742</td>\n",
              "      <td>7.3282</td>\n",
              "      <td>327.1353</td>\n",
              "    </tr>\n",
              "  </tbody>\n",
              "</table>\n",
              "</div>\n",
              "      <button class=\"colab-df-convert\" onclick=\"convertToInteractive('df-6c0d1060-4db2-40cb-8850-1b36f468c061')\"\n",
              "              title=\"Convert this dataframe to an interactive table.\"\n",
              "              style=\"display:none;\">\n",
              "        \n",
              "  <svg xmlns=\"http://www.w3.org/2000/svg\" height=\"24px\"viewBox=\"0 0 24 24\"\n",
              "       width=\"24px\">\n",
              "    <path d=\"M0 0h24v24H0V0z\" fill=\"none\"/>\n",
              "    <path d=\"M18.56 5.44l.94 2.06.94-2.06 2.06-.94-2.06-.94-.94-2.06-.94 2.06-2.06.94zm-11 1L8.5 8.5l.94-2.06 2.06-.94-2.06-.94L8.5 2.5l-.94 2.06-2.06.94zm10 10l.94 2.06.94-2.06 2.06-.94-2.06-.94-.94-2.06-.94 2.06-2.06.94z\"/><path d=\"M17.41 7.96l-1.37-1.37c-.4-.4-.92-.59-1.43-.59-.52 0-1.04.2-1.43.59L10.3 9.45l-7.72 7.72c-.78.78-.78 2.05 0 2.83L4 21.41c.39.39.9.59 1.41.59.51 0 1.02-.2 1.41-.59l7.78-7.78 2.81-2.81c.8-.78.8-2.07 0-2.86zM5.41 20L4 18.59l7.72-7.72 1.47 1.35L5.41 20z\"/>\n",
              "  </svg>\n",
              "      </button>\n",
              "      \n",
              "  <style>\n",
              "    .colab-df-container {\n",
              "      display:flex;\n",
              "      flex-wrap:wrap;\n",
              "      gap: 12px;\n",
              "    }\n",
              "\n",
              "    .colab-df-convert {\n",
              "      background-color: #E8F0FE;\n",
              "      border: none;\n",
              "      border-radius: 50%;\n",
              "      cursor: pointer;\n",
              "      display: none;\n",
              "      fill: #1967D2;\n",
              "      height: 32px;\n",
              "      padding: 0 0 0 0;\n",
              "      width: 32px;\n",
              "    }\n",
              "\n",
              "    .colab-df-convert:hover {\n",
              "      background-color: #E2EBFA;\n",
              "      box-shadow: 0px 1px 2px rgba(60, 64, 67, 0.3), 0px 1px 3px 1px rgba(60, 64, 67, 0.15);\n",
              "      fill: #174EA6;\n",
              "    }\n",
              "\n",
              "    [theme=dark] .colab-df-convert {\n",
              "      background-color: #3B4455;\n",
              "      fill: #D2E3FC;\n",
              "    }\n",
              "\n",
              "    [theme=dark] .colab-df-convert:hover {\n",
              "      background-color: #434B5C;\n",
              "      box-shadow: 0px 1px 3px 1px rgba(0, 0, 0, 0.15);\n",
              "      filter: drop-shadow(0px 1px 2px rgba(0, 0, 0, 0.3));\n",
              "      fill: #FFFFFF;\n",
              "    }\n",
              "  </style>\n",
              "\n",
              "      <script>\n",
              "        const buttonEl =\n",
              "          document.querySelector('#df-6c0d1060-4db2-40cb-8850-1b36f468c061 button.colab-df-convert');\n",
              "        buttonEl.style.display =\n",
              "          google.colab.kernel.accessAllowed ? 'block' : 'none';\n",
              "\n",
              "        async function convertToInteractive(key) {\n",
              "          const element = document.querySelector('#df-6c0d1060-4db2-40cb-8850-1b36f468c061');\n",
              "          const dataTable =\n",
              "            await google.colab.kernel.invokeFunction('convertToInteractive',\n",
              "                                                     [key], {});\n",
              "          if (!dataTable) return;\n",
              "\n",
              "          const docLinkHtml = 'Like what you see? Visit the ' +\n",
              "            '<a target=\"_blank\" href=https://colab.research.google.com/notebooks/data_table.ipynb>data table notebook</a>'\n",
              "            + ' to learn more about interactive tables.';\n",
              "          element.innerHTML = '';\n",
              "          dataTable['output_type'] = 'display_data';\n",
              "          await google.colab.output.renderOutput(dataTable, element);\n",
              "          const docLink = document.createElement('div');\n",
              "          docLink.innerHTML = docLinkHtml;\n",
              "          element.appendChild(docLink);\n",
              "        }\n",
              "      </script>\n",
              "    </div>\n",
              "  </div>\n",
              "  "
            ]
          },
          "metadata": {},
          "execution_count": 24
        }
      ]
    },
    {
      "cell_type": "code",
      "source": [
        "JIIStocksDataframe.info()"
      ],
      "metadata": {
        "colab": {
          "base_uri": "https://localhost:8080/"
        },
        "id": "bA1xKmCiJMV-",
        "outputId": "0ffeb23c-d315-428c-93ed-1ce1fa4703f8"
      },
      "execution_count": null,
      "outputs": [
        {
          "output_type": "stream",
          "name": "stdout",
          "text": [
            "<class 'pandas.core.frame.DataFrame'>\n",
            "Int64Index: 83663 entries, 1 to 88451\n",
            "Data columns (total 7 columns):\n",
            " #   Column    Non-Null Count  Dtype  \n",
            "---  ------    --------------  -----  \n",
            " 0   datadate  83663 non-null  int64  \n",
            " 1   tic       83663 non-null  object \n",
            " 2   adjcp     83663 non-null  float64\n",
            " 3   open      83663 non-null  float64\n",
            " 4   high      83663 non-null  float64\n",
            " 5   low       83663 non-null  float64\n",
            " 6   volume    83663 non-null  float64\n",
            "dtypes: float64(5), int64(1), object(1)\n",
            "memory usage: 5.1+ MB\n"
          ]
        }
      ]
    },
    {
      "cell_type": "code",
      "source": [
        "PreprocessedJIIStocksDataframe.info()"
      ],
      "metadata": {
        "colab": {
          "base_uri": "https://localhost:8080/"
        },
        "id": "wmHL9WWfJOnp",
        "outputId": "d3d810c7-6312-4aec-d06b-9c2b02eaad8d"
      },
      "execution_count": null,
      "outputs": [
        {
          "output_type": "stream",
          "name": "stdout",
          "text": [
            "<class 'pandas.core.frame.DataFrame'>\n",
            "RangeIndex: 83663 entries, 0 to 83662\n",
            "Data columns (total 5 columns):\n",
            " #   Column  Non-Null Count  Dtype  \n",
            "---  ------  --------------  -----  \n",
            " 0   adjcp   83663 non-null  float64\n",
            " 1   open    83663 non-null  float64\n",
            " 2   high    83663 non-null  float64\n",
            " 3   low     83663 non-null  float64\n",
            " 4   volume  83663 non-null  float64\n",
            "dtypes: float64(5)\n",
            "memory usage: 3.2 MB\n"
          ]
        }
      ]
    },
    {
      "cell_type": "code",
      "source": [
        "JIIStocksDataset = JIIStocksDataset.to_numpy()"
      ],
      "metadata": {
        "id": "BOeidqnYL3Ef"
      },
      "execution_count": null,
      "outputs": []
    },
    {
      "cell_type": "code",
      "source": [
        "JIIStocksDataset"
      ],
      "metadata": {
        "colab": {
          "base_uri": "https://localhost:8080/"
        },
        "id": "GcLa6zOOMIQO",
        "outputId": "374eaca1-8d63-4ffe-f4b6-372ecfdef39a"
      },
      "execution_count": null,
      "outputs": [
        {
          "output_type": "execute_result",
          "data": {
            "text/plain": [
              "array([[20090105, 'ADRO'],\n",
              "       [20090106, 'ADRO'],\n",
              "       [20090107, 'ADRO'],\n",
              "       ...,\n",
              "       [20211228, 'WIKA'],\n",
              "       [20211229, 'WIKA'],\n",
              "       [20211230, 'WIKA']], dtype=object)"
            ]
          },
          "metadata": {},
          "execution_count": 28
        }
      ]
    },
    {
      "cell_type": "code",
      "source": [
        "df = pd.DataFrame(JIIStocksDataset, columns = ['datadate','tic'])"
      ],
      "metadata": {
        "id": "mPcsTLuQMUd_"
      },
      "execution_count": null,
      "outputs": []
    },
    {
      "cell_type": "code",
      "source": [
        "PreprocessedJIIStocksDataframe = pd.concat([df, PreprocessedJIIStocksDataframe], axis=1)\n",
        "PreprocessedJIIStocksDataframe"
      ],
      "metadata": {
        "colab": {
          "base_uri": "https://localhost:8080/",
          "height": 424
        },
        "id": "VQ_c-SsSJbiA",
        "outputId": "1f105821-1529-4395-a64e-6f12f857de35"
      },
      "execution_count": null,
      "outputs": [
        {
          "output_type": "execute_result",
          "data": {
            "text/plain": [
              "       datadate   tic     adjcp      open      high       low    volume\n",
              "0      20090105  ADRO -0.776838 -0.649953 -0.648923 -0.649429 -0.150380\n",
              "1      20090106  ADRO -0.775656 -0.649953 -0.647508 -0.649429  1.249232\n",
              "2      20090107  ADRO -0.778021 -0.652822 -0.653168 -0.650885 -1.035941\n",
              "3      20090108  ADRO -0.776838 -0.651387 -0.651753 -0.649429 -1.075579\n",
              "4      20090109  ADRO -0.756735 -0.627004 -0.619210 -0.627589  9.669200\n",
              "...         ...   ...       ...       ...       ...       ...       ...\n",
              "88447  20211224  WIKA       NaN       NaN       NaN       NaN       NaN\n",
              "88448  20211227  WIKA       NaN       NaN       NaN       NaN       NaN\n",
              "88449  20211228  WIKA       NaN       NaN       NaN       NaN       NaN\n",
              "88450  20211229  WIKA       NaN       NaN       NaN       NaN       NaN\n",
              "88451  20211230  WIKA       NaN       NaN       NaN       NaN       NaN\n",
              "\n",
              "[88452 rows x 7 columns]"
            ],
            "text/html": [
              "\n",
              "  <div id=\"df-653e028f-0b89-4b25-8cae-37ad04d24fe6\">\n",
              "    <div class=\"colab-df-container\">\n",
              "      <div>\n",
              "<style scoped>\n",
              "    .dataframe tbody tr th:only-of-type {\n",
              "        vertical-align: middle;\n",
              "    }\n",
              "\n",
              "    .dataframe tbody tr th {\n",
              "        vertical-align: top;\n",
              "    }\n",
              "\n",
              "    .dataframe thead th {\n",
              "        text-align: right;\n",
              "    }\n",
              "</style>\n",
              "<table border=\"1\" class=\"dataframe\">\n",
              "  <thead>\n",
              "    <tr style=\"text-align: right;\">\n",
              "      <th></th>\n",
              "      <th>datadate</th>\n",
              "      <th>tic</th>\n",
              "      <th>adjcp</th>\n",
              "      <th>open</th>\n",
              "      <th>high</th>\n",
              "      <th>low</th>\n",
              "      <th>volume</th>\n",
              "    </tr>\n",
              "  </thead>\n",
              "  <tbody>\n",
              "    <tr>\n",
              "      <th>0</th>\n",
              "      <td>20090105</td>\n",
              "      <td>ADRO</td>\n",
              "      <td>-0.776838</td>\n",
              "      <td>-0.649953</td>\n",
              "      <td>-0.648923</td>\n",
              "      <td>-0.649429</td>\n",
              "      <td>-0.150380</td>\n",
              "    </tr>\n",
              "    <tr>\n",
              "      <th>1</th>\n",
              "      <td>20090106</td>\n",
              "      <td>ADRO</td>\n",
              "      <td>-0.775656</td>\n",
              "      <td>-0.649953</td>\n",
              "      <td>-0.647508</td>\n",
              "      <td>-0.649429</td>\n",
              "      <td>1.249232</td>\n",
              "    </tr>\n",
              "    <tr>\n",
              "      <th>2</th>\n",
              "      <td>20090107</td>\n",
              "      <td>ADRO</td>\n",
              "      <td>-0.778021</td>\n",
              "      <td>-0.652822</td>\n",
              "      <td>-0.653168</td>\n",
              "      <td>-0.650885</td>\n",
              "      <td>-1.035941</td>\n",
              "    </tr>\n",
              "    <tr>\n",
              "      <th>3</th>\n",
              "      <td>20090108</td>\n",
              "      <td>ADRO</td>\n",
              "      <td>-0.776838</td>\n",
              "      <td>-0.651387</td>\n",
              "      <td>-0.651753</td>\n",
              "      <td>-0.649429</td>\n",
              "      <td>-1.075579</td>\n",
              "    </tr>\n",
              "    <tr>\n",
              "      <th>4</th>\n",
              "      <td>20090109</td>\n",
              "      <td>ADRO</td>\n",
              "      <td>-0.756735</td>\n",
              "      <td>-0.627004</td>\n",
              "      <td>-0.619210</td>\n",
              "      <td>-0.627589</td>\n",
              "      <td>9.669200</td>\n",
              "    </tr>\n",
              "    <tr>\n",
              "      <th>...</th>\n",
              "      <td>...</td>\n",
              "      <td>...</td>\n",
              "      <td>...</td>\n",
              "      <td>...</td>\n",
              "      <td>...</td>\n",
              "      <td>...</td>\n",
              "      <td>...</td>\n",
              "    </tr>\n",
              "    <tr>\n",
              "      <th>88447</th>\n",
              "      <td>20211224</td>\n",
              "      <td>WIKA</td>\n",
              "      <td>NaN</td>\n",
              "      <td>NaN</td>\n",
              "      <td>NaN</td>\n",
              "      <td>NaN</td>\n",
              "      <td>NaN</td>\n",
              "    </tr>\n",
              "    <tr>\n",
              "      <th>88448</th>\n",
              "      <td>20211227</td>\n",
              "      <td>WIKA</td>\n",
              "      <td>NaN</td>\n",
              "      <td>NaN</td>\n",
              "      <td>NaN</td>\n",
              "      <td>NaN</td>\n",
              "      <td>NaN</td>\n",
              "    </tr>\n",
              "    <tr>\n",
              "      <th>88449</th>\n",
              "      <td>20211228</td>\n",
              "      <td>WIKA</td>\n",
              "      <td>NaN</td>\n",
              "      <td>NaN</td>\n",
              "      <td>NaN</td>\n",
              "      <td>NaN</td>\n",
              "      <td>NaN</td>\n",
              "    </tr>\n",
              "    <tr>\n",
              "      <th>88450</th>\n",
              "      <td>20211229</td>\n",
              "      <td>WIKA</td>\n",
              "      <td>NaN</td>\n",
              "      <td>NaN</td>\n",
              "      <td>NaN</td>\n",
              "      <td>NaN</td>\n",
              "      <td>NaN</td>\n",
              "    </tr>\n",
              "    <tr>\n",
              "      <th>88451</th>\n",
              "      <td>20211230</td>\n",
              "      <td>WIKA</td>\n",
              "      <td>NaN</td>\n",
              "      <td>NaN</td>\n",
              "      <td>NaN</td>\n",
              "      <td>NaN</td>\n",
              "      <td>NaN</td>\n",
              "    </tr>\n",
              "  </tbody>\n",
              "</table>\n",
              "<p>88452 rows × 7 columns</p>\n",
              "</div>\n",
              "      <button class=\"colab-df-convert\" onclick=\"convertToInteractive('df-653e028f-0b89-4b25-8cae-37ad04d24fe6')\"\n",
              "              title=\"Convert this dataframe to an interactive table.\"\n",
              "              style=\"display:none;\">\n",
              "        \n",
              "  <svg xmlns=\"http://www.w3.org/2000/svg\" height=\"24px\"viewBox=\"0 0 24 24\"\n",
              "       width=\"24px\">\n",
              "    <path d=\"M0 0h24v24H0V0z\" fill=\"none\"/>\n",
              "    <path d=\"M18.56 5.44l.94 2.06.94-2.06 2.06-.94-2.06-.94-.94-2.06-.94 2.06-2.06.94zm-11 1L8.5 8.5l.94-2.06 2.06-.94-2.06-.94L8.5 2.5l-.94 2.06-2.06.94zm10 10l.94 2.06.94-2.06 2.06-.94-2.06-.94-.94-2.06-.94 2.06-2.06.94z\"/><path d=\"M17.41 7.96l-1.37-1.37c-.4-.4-.92-.59-1.43-.59-.52 0-1.04.2-1.43.59L10.3 9.45l-7.72 7.72c-.78.78-.78 2.05 0 2.83L4 21.41c.39.39.9.59 1.41.59.51 0 1.02-.2 1.41-.59l7.78-7.78 2.81-2.81c.8-.78.8-2.07 0-2.86zM5.41 20L4 18.59l7.72-7.72 1.47 1.35L5.41 20z\"/>\n",
              "  </svg>\n",
              "      </button>\n",
              "      \n",
              "  <style>\n",
              "    .colab-df-container {\n",
              "      display:flex;\n",
              "      flex-wrap:wrap;\n",
              "      gap: 12px;\n",
              "    }\n",
              "\n",
              "    .colab-df-convert {\n",
              "      background-color: #E8F0FE;\n",
              "      border: none;\n",
              "      border-radius: 50%;\n",
              "      cursor: pointer;\n",
              "      display: none;\n",
              "      fill: #1967D2;\n",
              "      height: 32px;\n",
              "      padding: 0 0 0 0;\n",
              "      width: 32px;\n",
              "    }\n",
              "\n",
              "    .colab-df-convert:hover {\n",
              "      background-color: #E2EBFA;\n",
              "      box-shadow: 0px 1px 2px rgba(60, 64, 67, 0.3), 0px 1px 3px 1px rgba(60, 64, 67, 0.15);\n",
              "      fill: #174EA6;\n",
              "    }\n",
              "\n",
              "    [theme=dark] .colab-df-convert {\n",
              "      background-color: #3B4455;\n",
              "      fill: #D2E3FC;\n",
              "    }\n",
              "\n",
              "    [theme=dark] .colab-df-convert:hover {\n",
              "      background-color: #434B5C;\n",
              "      box-shadow: 0px 1px 3px 1px rgba(0, 0, 0, 0.15);\n",
              "      filter: drop-shadow(0px 1px 2px rgba(0, 0, 0, 0.3));\n",
              "      fill: #FFFFFF;\n",
              "    }\n",
              "  </style>\n",
              "\n",
              "      <script>\n",
              "        const buttonEl =\n",
              "          document.querySelector('#df-653e028f-0b89-4b25-8cae-37ad04d24fe6 button.colab-df-convert');\n",
              "        buttonEl.style.display =\n",
              "          google.colab.kernel.accessAllowed ? 'block' : 'none';\n",
              "\n",
              "        async function convertToInteractive(key) {\n",
              "          const element = document.querySelector('#df-653e028f-0b89-4b25-8cae-37ad04d24fe6');\n",
              "          const dataTable =\n",
              "            await google.colab.kernel.invokeFunction('convertToInteractive',\n",
              "                                                     [key], {});\n",
              "          if (!dataTable) return;\n",
              "\n",
              "          const docLinkHtml = 'Like what you see? Visit the ' +\n",
              "            '<a target=\"_blank\" href=https://colab.research.google.com/notebooks/data_table.ipynb>data table notebook</a>'\n",
              "            + ' to learn more about interactive tables.';\n",
              "          element.innerHTML = '';\n",
              "          dataTable['output_type'] = 'display_data';\n",
              "          await google.colab.output.renderOutput(dataTable, element);\n",
              "          const docLink = document.createElement('div');\n",
              "          docLink.innerHTML = docLinkHtml;\n",
              "          element.appendChild(docLink);\n",
              "        }\n",
              "      </script>\n",
              "    </div>\n",
              "  </div>\n",
              "  "
            ]
          },
          "metadata": {},
          "execution_count": 30
        }
      ]
    },
    {
      "cell_type": "code",
      "source": [
        "# Save dataframe as csv\n",
        "dataset = PreprocessedJIIStocksDataframe.to_csv(\"/content/gdrive/MyDrive/TugasAkhirS1Shinta/FinalDataset/PreprocessedJIIDataset.csv\")"
      ],
      "metadata": {
        "id": "Z5MngkIfIKom"
      },
      "execution_count": null,
      "outputs": []
    }
  ]
}